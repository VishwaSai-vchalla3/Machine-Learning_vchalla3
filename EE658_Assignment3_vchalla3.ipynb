{
 "cells": [
  {
   "cell_type": "code",
   "execution_count": 1,
   "id": "f59db529",
   "metadata": {},
   "outputs": [],
   "source": [
    "#Importing the libraries necessary.\n",
    "import numpy as np\n",
    "import pandas as pd\n",
    "import matplotlib.pyplot as plt\n",
    "import tensorflow as tf\n",
    "from sklearn.impute import SimpleImputer\n",
    "from sklearn.preprocessing import LabelEncoder\n",
    "from sklearn.preprocessing import OneHotEncoder\n",
    "from sklearn.model_selection import train_test_split\n",
    "from sklearn.metrics import confusion_matrix\n",
    "\n",
    "import time\n",
    "\n",
    "\n",
    "import warnings\n",
    "warnings.filterwarnings('ignore')"
   ]
  },
  {
   "cell_type": "code",
   "execution_count": 2,
   "id": "43917b53",
   "metadata": {},
   "outputs": [
    {
     "name": "stdout",
     "output_type": "stream",
     "text": [
      "       ID  Gender Ever_Married  Age Graduated  Profession  Work_Experience  \\\n",
      "0  462809    Male           No   22        No  Healthcare              1.0   \n",
      "1  462643  Female          Yes   38       Yes    Engineer              NaN   \n",
      "2  466315  Female          Yes   67       Yes    Engineer              1.0   \n",
      "\n",
      "  Spending_Score  Family_Size  Var_1 Segmentation  \n",
      "0            Low          4.0  Cat_4            D  \n",
      "1        Average          3.0  Cat_4            A  \n",
      "2            Low          1.0  Cat_6            B  \n",
      "       ID  Gender Ever_Married  Age Graduated  Profession  Work_Experience  \\\n",
      "0  458989  Female          Yes   36       Yes    Engineer              0.0   \n",
      "1  458994    Male          Yes   37       Yes  Healthcare              8.0   \n",
      "2  458996  Female          Yes   69        No         NaN              0.0   \n",
      "\n",
      "  Spending_Score  Family_Size  Var_1  \n",
      "0            Low          1.0  Cat_6  \n",
      "1        Average          4.0  Cat_6  \n",
      "2            Low          1.0  Cat_6  \n"
     ]
    }
   ],
   "source": [
    "# Load the dataset and perform initial exploratory data analysis. \n",
    "\n",
    "data = pd.read_csv('train.csv')\n",
    "test_data = pd.read_csv('test.csv')\n",
    "print(data.head(n=3))\n",
    "print(test_data.head(n=3))"
   ]
  },
  {
   "cell_type": "markdown",
   "id": "2eda739d",
   "metadata": {},
   "source": [
    "1. Data Preprocessing:"
   ]
  },
  {
   "cell_type": "code",
   "execution_count": 3,
   "id": "61fa2dd5",
   "metadata": {},
   "outputs": [
    {
     "name": "stdout",
     "output_type": "stream",
     "text": [
      "<class 'pandas.core.frame.DataFrame'>\n",
      "RangeIndex: 8068 entries, 0 to 8067\n",
      "Data columns (total 11 columns):\n",
      " #   Column           Non-Null Count  Dtype  \n",
      "---  ------           --------------  -----  \n",
      " 0   ID               8068 non-null   int64  \n",
      " 1   Gender           8068 non-null   object \n",
      " 2   Ever_Married     7928 non-null   object \n",
      " 3   Age              8068 non-null   int64  \n",
      " 4   Graduated        7990 non-null   object \n",
      " 5   Profession       7944 non-null   object \n",
      " 6   Work_Experience  7239 non-null   float64\n",
      " 7   Spending_Score   8068 non-null   object \n",
      " 8   Family_Size      7733 non-null   float64\n",
      " 9   Var_1            7992 non-null   object \n",
      " 10  Segmentation     8068 non-null   object \n",
      "dtypes: float64(2), int64(2), object(7)\n",
      "memory usage: 693.5+ KB\n",
      "None\n"
     ]
    }
   ],
   "source": [
    "# Getting the information regarding the data..\n",
    "print(data.info())\n",
    "# After the careful observation we can say that the data consists of null values.\n",
    "# We need to handle them."
   ]
  },
  {
   "cell_type": "code",
   "execution_count": 4,
   "id": "7f512e99",
   "metadata": {},
   "outputs": [
    {
     "name": "stdout",
     "output_type": "stream",
     "text": [
      "<class 'pandas.core.frame.DataFrame'>\n",
      "RangeIndex: 2627 entries, 0 to 2626\n",
      "Data columns (total 10 columns):\n",
      " #   Column           Non-Null Count  Dtype  \n",
      "---  ------           --------------  -----  \n",
      " 0   ID               2627 non-null   int64  \n",
      " 1   Gender           2627 non-null   object \n",
      " 2   Ever_Married     2577 non-null   object \n",
      " 3   Age              2627 non-null   int64  \n",
      " 4   Graduated        2603 non-null   object \n",
      " 5   Profession       2589 non-null   object \n",
      " 6   Work_Experience  2358 non-null   float64\n",
      " 7   Spending_Score   2627 non-null   object \n",
      " 8   Family_Size      2514 non-null   float64\n",
      " 9   Var_1            2595 non-null   object \n",
      "dtypes: float64(2), int64(2), object(6)\n",
      "memory usage: 205.4+ KB\n",
      "None\n"
     ]
    }
   ],
   "source": [
    "# Info about the test data.\n",
    "print(test_data.info())"
   ]
  },
  {
   "cell_type": "code",
   "execution_count": 5,
   "id": "940cb1b4",
   "metadata": {},
   "outputs": [],
   "source": [
    "# Before removing the null values.\n",
    "# From the observation we can impute one column which is Work_Experience column where a large chunk of data is getting missed.\n",
    "# Impute based on the mean.\n",
    "\n",
    "imputer = SimpleImputer(strategy='mean')\n",
    "data['Work_Experience']=imputer.fit_transform(data[['Work_Experience']])\n",
    "test_data['Work_Experience']=imputer.fit_transform(test_data[['Work_Experience']])"
   ]
  },
  {
   "cell_type": "code",
   "execution_count": 6,
   "id": "17c494c4",
   "metadata": {},
   "outputs": [
    {
     "name": "stdout",
     "output_type": "stream",
     "text": [
      "(7376, 11) (2627, 10)\n"
     ]
    }
   ],
   "source": [
    "# Handle null values appropriately (e.g., using imputation or removal).\n",
    "# Dropna will help in dropping the rows with the null values.\n",
    "data_modified = data.dropna()\n",
    "test_data_modified = test_data.dropna()\n",
    "print(data_modified.shape,test_data.shape)"
   ]
  },
  {
   "cell_type": "code",
   "execution_count": 7,
   "id": "e7e220bf",
   "metadata": {},
   "outputs": [],
   "source": [
    "# Convert categorical variables to a suitable numerical format. \n",
    "# Using Label Encoder for categorising data.\n",
    "\n",
    "def fun_label_enc(data):\n",
    "    label_enc = LabelEncoder()\n",
    "    data['Gender']=label_enc.fit_transform(data['Gender'])\n",
    "    data['Ever_Married']=label_enc.fit_transform(data['Ever_Married'])\n",
    "    data['Graduated']=label_enc.fit_transform(data['Graduated'])\n",
    "    data['Profession']=label_enc.fit_transform(data['Profession'])\n",
    "    data['Spending_Score']=label_enc.fit_transform(data['Spending_Score'])\n",
    "    data['Var_1']=label_enc.fit_transform(data['Var_1'])\n",
    "    if(data.shape[1]==11):\n",
    "        data['Segmentation']=label_enc.fit_transform(data['Segmentation'])\n",
    "        \n",
    "    return data"
   ]
  },
  {
   "cell_type": "code",
   "execution_count": 8,
   "id": "34f4372d",
   "metadata": {},
   "outputs": [
    {
     "name": "stdout",
     "output_type": "stream",
     "text": [
      "          ID  Gender  Ever_Married  Age  Graduated  Profession  \\\n",
      "8066  467299       0             0   27          1           5   \n",
      "8067  461879       1             1   37          1           4   \n",
      "\n",
      "      Work_Experience  Spending_Score  Family_Size  Var_1  Segmentation  \n",
      "8066              1.0               2          4.0      5             1  \n",
      "8067              0.0               0          3.0      3             1  \n"
     ]
    }
   ],
   "source": [
    "enc_data = fun_label_enc(data_modified)\n",
    "enc_test_data = fun_label_enc(test_data_modified)\n",
    "\n",
    "print(enc_data.tail(n=2))\n",
    "# print(enc_test_data.tail(n=2))"
   ]
  },
  {
   "cell_type": "code",
   "execution_count": 9,
   "id": "d2d61346",
   "metadata": {},
   "outputs": [],
   "source": [
    "X=enc_data.drop(columns=['Segmentation','ID'])\n",
    "y=enc_data['Segmentation'].values"
   ]
  },
  {
   "cell_type": "code",
   "execution_count": 10,
   "id": "bd04238d",
   "metadata": {},
   "outputs": [],
   "source": [
    "# encoder = OneHotEncoder(sparse_output=False)\n",
    "# y_enc = encoder.fit_transform(y.reshape(-1,1))\n",
    "# print(y_enc.shape)"
   ]
  },
  {
   "cell_type": "code",
   "execution_count": 11,
   "id": "77ebcb79",
   "metadata": {},
   "outputs": [
    {
     "name": "stdout",
     "output_type": "stream",
     "text": [
      "(5900, 9)\n",
      "(1476, 9)\n",
      "(5900,)\n",
      "(1476,)\n"
     ]
    }
   ],
   "source": [
    "# Splitting the training and testing data separately from the training data.\n",
    "X_train,X_test,y_train,y_test = train_test_split(X,y,test_size=0.2,random_state=47)\n",
    "print(X_train.shape)\n",
    "print(X_test.shape)\n",
    "print(y_train.shape)\n",
    "print(y_test.shape)"
   ]
  },
  {
   "cell_type": "markdown",
   "id": "164f4273",
   "metadata": {},
   "source": [
    "2. Neural Network Implementation from Scratch: "
   ]
  },
  {
   "cell_type": "code",
   "execution_count": 12,
   "id": "157416a7",
   "metadata": {},
   "outputs": [],
   "source": [
    "class Two_Layer_NN:\n",
    "    \n",
    "    def __init__(self, X, y):\n",
    "        self.X = X\n",
    "        self.y = y\n",
    "    \n",
    "    # For two-layer neural network, we need the sigmoid function and its derivative.\n",
    "    def sigmoid(self, z):\n",
    "        return 1 / (1 + np.exp(-z))\n",
    "    \n",
    "    def der_sigmoid(self, z):\n",
    "        return self.sigmoid(z) * (1 - self.sigmoid(z))\n",
    "    \n",
    "    # tanh is f(x)=0 when x<=0 and f(x)=x when x is x>0\n",
    "    def tanh(self, z):\n",
    "        return np.maximum(0, z)\n",
    "    \n",
    "    # derivative of tanh is f'(x)=0 when x<=0 and f'(x)=1 when x is x>0\n",
    "    def der_tanh(self, z):\n",
    "        return np.where(z <= 0, 0, 1)\n",
    "    \n",
    "    def nn(self, X, y, num_iterations, alpha,func):\n",
    "        \n",
    "        # Number of neurons in the hidden layer will be equal to 64.\n",
    "        hidden_layer_neurons = 64\n",
    "        \n",
    "        n = X.shape[1]  # Update to get the number of training examples correctly\n",
    "        m = X.shape[0]  # Number of features\n",
    "        w1 = np.random.randn(hidden_layer_neurons, n)\n",
    "        b1 = np.random.randn(hidden_layer_neurons, 1)\n",
    "        w2 = np.random.randn(1, hidden_layer_neurons)\n",
    "        b2 = np.random.randn(1, 1)\n",
    "        \n",
    "        loss_func = [[], []]\n",
    "        \n",
    "        for iteration in range(num_iterations):\n",
    "            \n",
    "            # Forward Propagation\n",
    "            z1 = np.dot(w1, X.T) + b1\n",
    "            if(func=='sigmoid'):\n",
    "                y1 = self.sigmoid(z1)\n",
    "            if(func=='tanh'):\n",
    "                y1 = self.tanh(z1)\n",
    "            \n",
    "            z2 = np.dot(w2, y1) + b2\n",
    "            if(func=='sigmoid'):\n",
    "                y2 = self.sigmoid(z2)\n",
    "            if(func=='tanh'):\n",
    "                y2 = self.tanh(z2)\n",
    "            \n",
    "            # Calculate loss\n",
    "            loss = -1.0/m * np.sum(np.sum(y*np.log(y2)) + np.sum((1-y)*np.log(1-y2)))           \n",
    "            loss_func[0].append(iteration)\n",
    "            loss_func[1].append(loss)\n",
    "#                 print(loss_func[0], \" \", loss_func[1])\n",
    "                \n",
    "            # Backward Propagation\n",
    "            dz2 = y2 - y\n",
    "            dw2 = np.dot(dz2, y1.T)/m\n",
    "            db2 = np.sum(dz2, axis=1, keepdims=True)/m\n",
    "            if(func=='sigmoid'):\n",
    "                dz1 = np.dot(w2.T, dz2) * self.der_sigmoid(z1)\n",
    "            if(func=='tanh'):\n",
    "                dz1 = np.dot(w2.T, dz2) * self.der_tanh(z1)\n",
    "            dw1 = np.dot(dz1, X)/m\n",
    "            db1 = np.sum(dz1, axis=1, keepdims=True)/m\n",
    "\n",
    "            # Update weights and biases\n",
    "            w2 -= alpha * dw2\n",
    "            b2 -= alpha * db2\n",
    "            w1 -= alpha * dw1\n",
    "            b1 -= alpha * db1\n",
    "\n",
    "        return w1, b1, w2, b2, loss_func"
   ]
  },
  {
   "cell_type": "code",
   "execution_count": 13,
   "id": "0b9f1a86",
   "metadata": {},
   "outputs": [
    {
     "name": "stdout",
     "output_type": "stream",
     "text": [
      "Execution Time is:  25.27609395980835\n"
     ]
    },
    {
     "data": {
      "text/plain": [
       "[<matplotlib.lines.Line2D at 0x182d7ca3a30>]"
      ]
     },
     "execution_count": 13,
     "metadata": {},
     "output_type": "execute_result"
    },
    {
     "data": {
      "image/png": "[encoded data removed]",
      "text/plain": [
       "<Figure size 640x480 with 1 Axes>"
      ]
     },
     "metadata": {},
     "output_type": "display_data"
    }
   ],
   "source": [
    "alpha = 0.01\n",
    "iterations = 400\n",
    "obj = Two_Layer_NN(X_train,y_train)\n",
    "start_time=time.time()\n",
    "w1, b1, w2, b2, cost_list = obj.nn(X_train,y_train,iterations,alpha,'sigmoid')\n",
    "end_time=time.time()\n",
    "print(\"Execution Time is: \",(end_time-start_time))\n",
    "# print('W1=',w1, '\\n', 'b1=',b1, '\\n', 'W2=',w2, '\\n', 'b2=',b2)\n",
    "plt.plot(cost_list[1][1:],cost_list[0][1:], 'go')"
   ]
  },
  {
   "cell_type": "code",
   "execution_count": 14,
   "id": "2d7b443f",
   "metadata": {},
   "outputs": [
    {
     "name": "stdout",
     "output_type": "stream",
     "text": [
      "Execution Time is:  7.889718055725098\n"
     ]
    },
    {
     "data": {
      "text/plain": [
       "[<matplotlib.lines.Line2D at 0x182d7e3c940>]"
      ]
     },
     "execution_count": 14,
     "metadata": {},
     "output_type": "execute_result"
    },
    {
     "data": {
      "image/png": "[encoded data removed]",
      "text/plain": [
       "<Figure size 640x480 with 1 Axes>"
      ]
     },
     "metadata": {},
     "output_type": "display_data"
    }
   ],
   "source": [
    "alpha = 0.01\n",
    "iterations = 400\n",
    "obj = Two_Layer_NN(X_train,y_train)\n",
    "func='tanh'\n",
    "start_time=time.time()\n",
    "w1, b1, w2, b2, cost_list = obj.nn(X_train,y_train,iterations,alpha,func)\n",
    "end_time=time.time()\n",
    "print(\"Execution Time is: \",(end_time-start_time))\n",
    "# print('W1=',w1, '\\n', 'b1=',b1, '\\n', 'W2=',w2, '\\n', 'b2=',b2)\n",
    "plt.plot(cost_list[1][1:],cost_list[0][1:], 'go')"
   ]
  },
  {
   "cell_type": "code",
   "execution_count": 15,
   "id": "c1fe0de2",
   "metadata": {},
   "outputs": [],
   "source": [
    "def sigmoid(z):\n",
    "        return 1 / (1 + np.exp(-z))"
   ]
  },
  {
   "cell_type": "code",
   "execution_count": 16,
   "id": "f38a9ca0",
   "metadata": {},
   "outputs": [
    {
     "name": "stdout",
     "output_type": "stream",
     "text": [
      "Training Accuracy: 0.2405084745762712\n",
      "Test Accuracy: 0.24932249322493225\n",
      "Training Classification Report:\n",
      "              precision    recall  f1-score   support\n",
      "\n",
      "           0       0.24      1.00      0.39      1419\n",
      "           1       0.00      0.00      0.00      1402\n",
      "           2       0.00      0.00      0.00      1520\n",
      "           3       0.00      0.00      0.00      1559\n",
      "\n",
      "    accuracy                           0.24      5900\n",
      "   macro avg       0.06      0.25      0.10      5900\n",
      "weighted avg       0.06      0.24      0.09      5900\n",
      "\n",
      "Test Classification Report:\n",
      "              precision    recall  f1-score   support\n",
      "\n",
      "           0       0.25      1.00      0.40       368\n",
      "           1       0.00      0.00      0.00       337\n",
      "           2       0.00      0.00      0.00       340\n",
      "           3       0.00      0.00      0.00       431\n",
      "\n",
      "    accuracy                           0.25      1476\n",
      "   macro avg       0.06      0.25      0.10      1476\n",
      "weighted avg       0.06      0.25      0.10      1476\n",
      "\n",
      "Training Confusion Matrix:\n",
      "[[1419    0    0    0]\n",
      " [1402    0    0    0]\n",
      " [1520    0    0    0]\n",
      " [1559    0    0    0]]\n",
      "Test Confusion Matrix:\n",
      "[[368   0   0   0]\n",
      " [337   0   0   0]\n",
      " [340   0   0   0]\n",
      " [431   0   0   0]]\n"
     ]
    }
   ],
   "source": [
    "def predict(X, w1, b1, w2, b2):\n",
    "    # Forward propagation\n",
    "    z1 = np.dot(w1, X) + b1\n",
    "    a1 = sigmoid(z1)\n",
    "    z2 = np.dot(w2, a1) + b2\n",
    "    a2 = sigmoid(z2)\n",
    "    \n",
    "    # Threshold output to get binary predictions\n",
    "    predictions = np.round(a2)\n",
    "    return predictions\n",
    "\n",
    "def evaluate(y_true, y_pred):\n",
    "    accuracy = np.mean(y_true == y_pred)\n",
    "    return accuracy\n",
    "\n",
    "# Assume you have already trained the model and obtained the weights and biases\n",
    "\n",
    "# Predict using trained model\n",
    "y_train_pred = predict(X_train.T, w1, b1, w2, b2)\n",
    "y_test_pred = predict(X_test.T, w1, b1, w2, b2)\n",
    "\n",
    "# Evaluate the model\n",
    "train_accuracy = evaluate(y_train, y_train_pred)\n",
    "test_accuracy = evaluate(y_test, y_test_pred)\n",
    "\n",
    "print(\"Training Accuracy:\", train_accuracy)\n",
    "print(\"Test Accuracy:\", test_accuracy)\n",
    "\n",
    "# Additional evaluation metrics\n",
    "from sklearn.metrics import classification_report, confusion_matrix\n",
    "\n",
    "print(\"Training Classification Report:\")\n",
    "print(classification_report(y_train, y_train_pred.T.ravel()))\n",
    "\n",
    "print(\"Test Classification Report:\")\n",
    "print(classification_report(y_test, y_test_pred.T.ravel()))\n",
    "\n",
    "print(\"Training Confusion Matrix:\")\n",
    "print(confusion_matrix(y_train, y_train_pred.T.ravel()))\n",
    "\n",
    "print(\"Test Confusion Matrix:\")\n",
    "print(confusion_matrix(y_test, y_test_pred.T.ravel()))"
   ]
  },
  {
   "cell_type": "markdown",
   "id": "711528e4",
   "metadata": {},
   "source": [
    "3. Neural Network using Scikit-learn: \n"
   ]
  },
  {
   "cell_type": "code",
   "execution_count": 17,
   "id": "91b41507",
   "metadata": {},
   "outputs": [
    {
     "data": {
      "image/png": "[encoded data removed]",
      "text/plain": [
       "<Figure size 640x480 with 1 Axes>"
      ]
     },
     "metadata": {},
     "output_type": "display_data"
    }
   ],
   "source": [
    "from sklearn.neural_network import MLPClassifier\n",
    "\n",
    "# Two-layer neural network\n",
    "mlp_classifier_2_layers = MLPClassifier(hidden_layer_sizes=(64,), activation='relu', max_iter=1000)\n",
    "mlp_classifier_2_layers.fit(X_train, y_train)\n",
    "\n",
    "# Three-layer neural network\n",
    "mlp_classifier_3_layers = MLPClassifier(hidden_layer_sizes=(64, 32), activation='relu', max_iter=1000)\n",
    "mlp_classifier_3_layers.fit(X_train, y_train)\n",
    "\n",
    "# Investigate accuracy with different number of neurons\n",
    "neuron_counts = [8, 16, 32, 64, 128]\n",
    "accuracies = []\n",
    "for neurons in neuron_counts:\n",
    "    mlp_classifier = MLPClassifier(hidden_layer_sizes=(neurons,), activation='relu', max_iter=1000)\n",
    "    mlp_classifier.fit(X_train, y_train)\n",
    "    accuracies.append(mlp_classifier.score(X_test, y_test))\n",
    "\n",
    "# Plot the graph\n",
    "import matplotlib.pyplot as plt\n",
    "plt.plot(neuron_counts, accuracies)\n",
    "plt.xlabel('Number of Neurons')\n",
    "plt.ylabel('Accuracy')\n",
    "plt.title('Accuracy vs. Number of Neurons in Hidden Layer')\n",
    "plt.show()"
   ]
  },
  {
   "cell_type": "code",
   "execution_count": 18,
   "id": "ba7fb898",
   "metadata": {},
   "outputs": [
    {
     "data": {
      "text/html": [
       "<style>#sk-container-id-1 {color: black;}#sk-container-id-1 pre{padding: 0;}#sk-container-id-1 div.sk-toggleable {background-color: white;}#sk-container-id-1 label.sk-toggleable__label {cursor: pointer;display: block;width: 100%;margin-bottom: 0;padding: 0.3em;box-sizing: border-box;text-align: center;}#sk-container-id-1 label.sk-toggleable__label-arrow:before {content: \"▸\";float: left;margin-right: 0.25em;color: #696969;}#sk-container-id-1 label.sk-toggleable__label-arrow:hover:before {color: black;}#sk-container-id-1 div.sk-estimator:hover label.sk-toggleable__label-arrow:before {color: black;}#sk-container-id-1 div.sk-toggleable__content {max-height: 0;max-width: 0;overflow: hidden;text-align: left;background-color: #f0f8ff;}#sk-container-id-1 div.sk-toggleable__content pre {margin: 0.2em;color: black;border-radius: 0.25em;background-color: #f0f8ff;}#sk-container-id-1 input.sk-toggleable__control:checked~div.sk-toggleable__content {max-height: 200px;max-width: 100%;overflow: auto;}#sk-container-id-1 input.sk-toggleable__control:checked~label.sk-toggleable__label-arrow:before {content: \"▾\";}#sk-container-id-1 div.sk-estimator input.sk-toggleable__control:checked~label.sk-toggleable__label {background-color: #d4ebff;}#sk-container-id-1 div.sk-label input.sk-toggleable__control:checked~label.sk-toggleable__label {background-color: #d4ebff;}#sk-container-id-1 input.sk-hidden--visually {border: 0;clip: rect(1px 1px 1px 1px);clip: rect(1px, 1px, 1px, 1px);height: 1px;margin: -1px;overflow: hidden;padding: 0;position: absolute;width: 1px;}#sk-container-id-1 div.sk-estimator {font-family: monospace;background-color: #f0f8ff;border: 1px dotted black;border-radius: 0.25em;box-sizing: border-box;margin-bottom: 0.5em;}#sk-container-id-1 div.sk-estimator:hover {background-color: #d4ebff;}#sk-container-id-1 div.sk-parallel-item::after {content: \"\";width: 100%;border-bottom: 1px solid gray;flex-grow: 1;}#sk-container-id-1 div.sk-label:hover label.sk-toggleable__label {background-color: #d4ebff;}#sk-container-id-1 div.sk-serial::before {content: \"\";position: absolute;border-left: 1px solid gray;box-sizing: border-box;top: 0;bottom: 0;left: 50%;z-index: 0;}#sk-container-id-1 div.sk-serial {display: flex;flex-direction: column;align-items: center;background-color: white;padding-right: 0.2em;padding-left: 0.2em;position: relative;}#sk-container-id-1 div.sk-item {position: relative;z-index: 1;}#sk-container-id-1 div.sk-parallel {display: flex;align-items: stretch;justify-content: center;background-color: white;position: relative;}#sk-container-id-1 div.sk-item::before, #sk-container-id-1 div.sk-parallel-item::before {content: \"\";position: absolute;border-left: 1px solid gray;box-sizing: border-box;top: 0;bottom: 0;left: 50%;z-index: -1;}#sk-container-id-1 div.sk-parallel-item {display: flex;flex-direction: column;z-index: 1;position: relative;background-color: white;}#sk-container-id-1 div.sk-parallel-item:first-child::after {align-self: flex-end;width: 50%;}#sk-container-id-1 div.sk-parallel-item:last-child::after {align-self: flex-start;width: 50%;}#sk-container-id-1 div.sk-parallel-item:only-child::after {width: 0;}#sk-container-id-1 div.sk-dashed-wrapped {border: 1px dashed gray;margin: 0 0.4em 0.5em 0.4em;box-sizing: border-box;padding-bottom: 0.4em;background-color: white;}#sk-container-id-1 div.sk-label label {font-family: monospace;font-weight: bold;display: inline-block;line-height: 1.2em;}#sk-container-id-1 div.sk-label-container {text-align: center;}#sk-container-id-1 div.sk-container {/* jupyter's `normalize.less` sets `[hidden] { display: none; }` but bootstrap.min.css set `[hidden] { display: none !important; }` so we also need the `!important` here to be able to override the default hidden behavior on the sphinx rendered scikit-learn.org. See: https://github.com/scikit-learn/scikit-learn/issues/21755 */display: inline-block !important;position: relative;}#sk-container-id-1 div.sk-text-repr-fallback {display: none;}</style><div id=\"sk-container-id-1\" class=\"sk-top-container\"><div class=\"sk-text-repr-fallback\"><pre>LogisticRegression(max_iter=1000)</pre><b>In a Jupyter environment, please rerun this cell to show the HTML representation or trust the notebook. <br />On GitHub, the HTML representation is unable to render, please try loading this page with nbviewer.org.</b></div><div class=\"sk-container\" hidden><div class=\"sk-item\"><div class=\"sk-estimator sk-toggleable\"><input class=\"sk-toggleable__control sk-hidden--visually\" id=\"sk-estimator-id-1\" type=\"checkbox\" checked><label for=\"sk-estimator-id-1\" class=\"sk-toggleable__label sk-toggleable__label-arrow\">LogisticRegression</label><div class=\"sk-toggleable__content\"><pre>LogisticRegression(max_iter=1000)</pre></div></div></div></div></div>"
      ],
      "text/plain": [
       "LogisticRegression(max_iter=1000)"
      ]
     },
     "execution_count": 18,
     "metadata": {},
     "output_type": "execute_result"
    }
   ],
   "source": [
    "from sklearn.linear_model import LogisticRegression\n",
    "\n",
    "logistic_model = LogisticRegression(max_iter=1000)\n",
    "logistic_model.fit(X_train, y_train)"
   ]
  },
  {
   "cell_type": "code",
   "execution_count": 19,
   "id": "c974313f",
   "metadata": {},
   "outputs": [
    {
     "name": "stdout",
     "output_type": "stream",
     "text": [
      "MLP Classifier (Two Layers):\n",
      "[[197  75  39  57]\n",
      " [128 112  62  35]\n",
      " [ 52  87 162  39]\n",
      " [123  15  11 282]]\n",
      "              precision    recall  f1-score   support\n",
      "\n",
      "           0       0.39      0.54      0.45       368\n",
      "           1       0.39      0.33      0.36       337\n",
      "           2       0.59      0.48      0.53       340\n",
      "           3       0.68      0.65      0.67       431\n",
      "\n",
      "    accuracy                           0.51      1476\n",
      "   macro avg       0.51      0.50      0.50      1476\n",
      "weighted avg       0.52      0.51      0.51      1476\n",
      "\n",
      "MLP Classifier (Three Layers):\n",
      "[[187  53  50  78]\n",
      " [118  82  92  45]\n",
      " [ 48  52 195  45]\n",
      " [ 99   7  15 310]]\n",
      "              precision    recall  f1-score   support\n",
      "\n",
      "           0       0.41      0.51      0.46       368\n",
      "           1       0.42      0.24      0.31       337\n",
      "           2       0.55      0.57      0.56       340\n",
      "           3       0.65      0.72      0.68       431\n",
      "\n",
      "    accuracy                           0.52      1476\n",
      "   macro avg       0.51      0.51      0.50      1476\n",
      "weighted avg       0.52      0.52      0.51      1476\n",
      "\n",
      "Logistic Regression:\n",
      "[[153  41  88  86]\n",
      " [112  50 128  47]\n",
      " [ 47  25 223  45]\n",
      " [ 69  19  23 320]]\n",
      "              precision    recall  f1-score   support\n",
      "\n",
      "           0       0.40      0.42      0.41       368\n",
      "           1       0.37      0.15      0.21       337\n",
      "           2       0.48      0.66      0.56       340\n",
      "           3       0.64      0.74      0.69       431\n",
      "\n",
      "    accuracy                           0.51      1476\n",
      "   macro avg       0.47      0.49      0.47      1476\n",
      "weighted avg       0.48      0.51      0.48      1476\n",
      "\n"
     ]
    }
   ],
   "source": [
    "from sklearn.metrics import confusion_matrix, classification_report\n",
    "\n",
    "# Evaluate neural network models\n",
    "y_pred_mlp_2_layers = mlp_classifier_2_layers.predict(X_test)\n",
    "y_pred_mlp_3_layers = mlp_classifier_3_layers.predict(X_test)\n",
    "\n",
    "print(\"MLP Classifier (Two Layers):\")\n",
    "print(confusion_matrix(y_test, y_pred_mlp_2_layers))\n",
    "print(classification_report(y_test, y_pred_mlp_2_layers))\n",
    "\n",
    "print(\"MLP Classifier (Three Layers):\")\n",
    "print(confusion_matrix(y_test, y_pred_mlp_3_layers))\n",
    "print(classification_report(y_test, y_pred_mlp_3_layers))\n",
    "\n",
    "# Evaluate logistic regression model\n",
    "y_pred_logistic = logistic_model.predict(X_test)\n",
    "\n",
    "print(\"Logistic Regression:\")\n",
    "print(confusion_matrix(y_test, y_pred_logistic))\n",
    "print(classification_report(y_test, y_pred_logistic))"
   ]
  }
 ],
 "metadata": {
  "kernelspec": {
   "display_name": "Python 3 (ipykernel)",
   "language": "python",
   "name": "python3"
  },
  "language_info": {
   "codemirror_mode": {
    "name": "ipython",
    "version": 3
   },
   "file_extension": ".py",
   "mimetype": "text/x-python",
   "name": "python",
   "nbconvert_exporter": "python",
   "pygments_lexer": "ipython3",
   "version": "3.10.13"
  }
 },
 "nbformat": 4,
 "nbformat_minor": 5
}
