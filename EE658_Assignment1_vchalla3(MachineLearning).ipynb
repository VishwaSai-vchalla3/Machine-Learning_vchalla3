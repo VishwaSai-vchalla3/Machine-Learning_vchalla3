{
 "cells": [
  {
   "cell_type": "code",
   "execution_count": 1,
   "id": "ba717f9e",
   "metadata": {},
   "outputs": [],
   "source": [
    "#Importing the Necessary Libraries.\n",
    "\n",
    "import pandas as pd\n",
    "import numpy as np\n",
    "import matplotlib.pyplot as plt\n",
    "import category_encoders as ce\n",
    "from sklearn.linear_model import LinearRegression\n",
    "from sklearn.model_selection import train_test_split\n",
    "from sklearn.preprocessing import OneHotEncoder\n",
    "from sklearn.preprocessing import MinMaxScaler\n",
    "from sklearn.metrics import mean_squared_error,mean_absolute_error\n",
    "\n",
    "import time"
   ]
  },
  {
   "cell_type": "code",
   "execution_count": 2,
   "id": "ce0cca8f",
   "metadata": {},
   "outputs": [
    {
     "name": "stdout",
     "output_type": "stream",
     "text": [
      "   Age  Gender   BMI  Children Smoker     Region  Expenses\n",
      "0   19  female  27.9         0    yes  southwest  16884.92\n",
      "1   18    male  33.8         1     no  southeast   1725.55\n",
      "2   28    male  33.0         3     no  southeast   4449.46\n",
      "3   33    male  22.7         0     no  northwest  21984.47\n",
      "4   32    male  28.9         0     no  northwest   3866.86\n"
     ]
    }
   ],
   "source": [
    "#Read the CSV file from the local directory using read_csv. \n",
    "data = pd.read_csv(\"insurance.csv\")\n",
    "#Printing few sample rows\n",
    "print(data.head())"
   ]
  },
  {
   "cell_type": "code",
   "execution_count": 3,
   "id": "1c4cfb3b",
   "metadata": {},
   "outputs": [
    {
     "name": "stdout",
     "output_type": "stream",
     "text": [
      "Shape of the data: (1338, 7)\n"
     ]
    }
   ],
   "source": [
    "#Dimensions of the data.\n",
    "print(\"Shape of the data:\",data.shape)"
   ]
  },
  {
   "cell_type": "code",
   "execution_count": 4,
   "id": "e6708eba",
   "metadata": {},
   "outputs": [
    {
     "name": "stdout",
     "output_type": "stream",
     "text": [
      "<class 'pandas.core.frame.DataFrame'>\n",
      "RangeIndex: 1338 entries, 0 to 1337\n",
      "Data columns (total 7 columns):\n",
      " #   Column    Non-Null Count  Dtype  \n",
      "---  ------    --------------  -----  \n",
      " 0   Age       1338 non-null   int64  \n",
      " 1   Gender    1332 non-null   object \n",
      " 2   BMI       1330 non-null   float64\n",
      " 3   Children  1338 non-null   int64  \n",
      " 4   Smoker    1338 non-null   object \n",
      " 5   Region    1336 non-null   object \n",
      " 6   Expenses  1337 non-null   float64\n",
      "dtypes: float64(2), int64(2), object(3)\n",
      "memory usage: 73.3+ KB\n",
      "None\n"
     ]
    }
   ],
   "source": [
    "#Fetching the information about the data.\n",
    "print(data.info())\n",
    "#In the below observation of the data we can see there are missing parameters in all the columns."
   ]
  },
  {
   "cell_type": "code",
   "execution_count": 5,
   "id": "ff705ac4",
   "metadata": {},
   "outputs": [
    {
     "name": "stdout",
     "output_type": "stream",
     "text": [
      "<class 'pandas.core.frame.DataFrame'>\n",
      "Index: 1321 entries, 0 to 1337\n",
      "Data columns (total 7 columns):\n",
      " #   Column    Non-Null Count  Dtype  \n",
      "---  ------    --------------  -----  \n",
      " 0   Age       1321 non-null   int64  \n",
      " 1   Gender    1321 non-null   object \n",
      " 2   BMI       1321 non-null   float64\n",
      " 3   Children  1321 non-null   int64  \n",
      " 4   Smoker    1321 non-null   object \n",
      " 5   Region    1321 non-null   object \n",
      " 6   Expenses  1321 non-null   float64\n",
      "dtypes: float64(2), int64(2), object(3)\n",
      "memory usage: 82.6+ KB\n",
      "None\n"
     ]
    }
   ],
   "source": [
    "#Removing the rows which contains the missing values.\n",
    "cleaned_data = data.dropna()\n",
    "print(cleaned_data.info())"
   ]
  },
  {
   "cell_type": "code",
   "execution_count": 6,
   "id": "fd0a4d6c",
   "metadata": {},
   "outputs": [
    {
     "name": "stdout",
     "output_type": "stream",
     "text": [
      "Dimensions of the after cleaning:  (1321, 7)\n",
      "Age           int64\n",
      "Gender       object\n",
      "BMI         float64\n",
      "Children      int64\n",
      "Smoker       object\n",
      "Region       object\n",
      "Expenses    float64\n",
      "dtype: object\n"
     ]
    }
   ],
   "source": [
    "#Print the new dimensions of the data.\n",
    "print(\"Dimensions of the after cleaning: \",cleaned_data.shape)\n",
    "print(cleaned_data.dtypes)"
   ]
  },
  {
   "cell_type": "code",
   "execution_count": 7,
   "id": "37bd05a2",
   "metadata": {},
   "outputs": [
    {
     "data": {
      "text/html": [
       "<style>#sk-container-id-1 {color: black;}#sk-container-id-1 pre{padding: 0;}#sk-container-id-1 div.sk-toggleable {background-color: white;}#sk-container-id-1 label.sk-toggleable__label {cursor: pointer;display: block;width: 100%;margin-bottom: 0;padding: 0.3em;box-sizing: border-box;text-align: center;}#sk-container-id-1 label.sk-toggleable__label-arrow:before {content: \"▸\";float: left;margin-right: 0.25em;color: #696969;}#sk-container-id-1 label.sk-toggleable__label-arrow:hover:before {color: black;}#sk-container-id-1 div.sk-estimator:hover label.sk-toggleable__label-arrow:before {color: black;}#sk-container-id-1 div.sk-toggleable__content {max-height: 0;max-width: 0;overflow: hidden;text-align: left;background-color: #f0f8ff;}#sk-container-id-1 div.sk-toggleable__content pre {margin: 0.2em;color: black;border-radius: 0.25em;background-color: #f0f8ff;}#sk-container-id-1 input.sk-toggleable__control:checked~div.sk-toggleable__content {max-height: 200px;max-width: 100%;overflow: auto;}#sk-container-id-1 input.sk-toggleable__control:checked~label.sk-toggleable__label-arrow:before {content: \"▾\";}#sk-container-id-1 div.sk-estimator input.sk-toggleable__control:checked~label.sk-toggleable__label {background-color: #d4ebff;}#sk-container-id-1 div.sk-label input.sk-toggleable__control:checked~label.sk-toggleable__label {background-color: #d4ebff;}#sk-container-id-1 input.sk-hidden--visually {border: 0;clip: rect(1px 1px 1px 1px);clip: rect(1px, 1px, 1px, 1px);height: 1px;margin: -1px;overflow: hidden;padding: 0;position: absolute;width: 1px;}#sk-container-id-1 div.sk-estimator {font-family: monospace;background-color: #f0f8ff;border: 1px dotted black;border-radius: 0.25em;box-sizing: border-box;margin-bottom: 0.5em;}#sk-container-id-1 div.sk-estimator:hover {background-color: #d4ebff;}#sk-container-id-1 div.sk-parallel-item::after {content: \"\";width: 100%;border-bottom: 1px solid gray;flex-grow: 1;}#sk-container-id-1 div.sk-label:hover label.sk-toggleable__label {background-color: #d4ebff;}#sk-container-id-1 div.sk-serial::before {content: \"\";position: absolute;border-left: 1px solid gray;box-sizing: border-box;top: 0;bottom: 0;left: 50%;z-index: 0;}#sk-container-id-1 div.sk-serial {display: flex;flex-direction: column;align-items: center;background-color: white;padding-right: 0.2em;padding-left: 0.2em;position: relative;}#sk-container-id-1 div.sk-item {position: relative;z-index: 1;}#sk-container-id-1 div.sk-parallel {display: flex;align-items: stretch;justify-content: center;background-color: white;position: relative;}#sk-container-id-1 div.sk-item::before, #sk-container-id-1 div.sk-parallel-item::before {content: \"\";position: absolute;border-left: 1px solid gray;box-sizing: border-box;top: 0;bottom: 0;left: 50%;z-index: -1;}#sk-container-id-1 div.sk-parallel-item {display: flex;flex-direction: column;z-index: 1;position: relative;background-color: white;}#sk-container-id-1 div.sk-parallel-item:first-child::after {align-self: flex-end;width: 50%;}#sk-container-id-1 div.sk-parallel-item:last-child::after {align-self: flex-start;width: 50%;}#sk-container-id-1 div.sk-parallel-item:only-child::after {width: 0;}#sk-container-id-1 div.sk-dashed-wrapped {border: 1px dashed gray;margin: 0 0.4em 0.5em 0.4em;box-sizing: border-box;padding-bottom: 0.4em;background-color: white;}#sk-container-id-1 div.sk-label label {font-family: monospace;font-weight: bold;display: inline-block;line-height: 1.2em;}#sk-container-id-1 div.sk-label-container {text-align: center;}#sk-container-id-1 div.sk-container {/* jupyter's `normalize.less` sets `[hidden] { display: none; }` but bootstrap.min.css set `[hidden] { display: none !important; }` so we also need the `!important` here to be able to override the default hidden behavior on the sphinx rendered scikit-learn.org. See: https://github.com/scikit-learn/scikit-learn/issues/21755 */display: inline-block !important;position: relative;}#sk-container-id-1 div.sk-text-repr-fallback {display: none;}</style><div id=\"sk-container-id-1\" class=\"sk-top-container\"><div class=\"sk-text-repr-fallback\"><pre>OneHotEncoder(sparse_output=False)</pre><b>In a Jupyter environment, please rerun this cell to show the HTML representation or trust the notebook. <br />On GitHub, the HTML representation is unable to render, please try loading this page with nbviewer.org.</b></div><div class=\"sk-container\" hidden><div class=\"sk-item\"><div class=\"sk-estimator sk-toggleable\"><input class=\"sk-toggleable__control sk-hidden--visually\" id=\"sk-estimator-id-1\" type=\"checkbox\" checked><label for=\"sk-estimator-id-1\" class=\"sk-toggleable__label sk-toggleable__label-arrow\">OneHotEncoder</label><div class=\"sk-toggleable__content\"><pre>OneHotEncoder(sparse_output=False)</pre></div></div></div></div></div>"
      ],
      "text/plain": [
       "OneHotEncoder(sparse_output=False)"
      ]
     },
     "execution_count": 7,
     "metadata": {},
     "output_type": "execute_result"
    }
   ],
   "source": [
    "# Use the One Hot Encoding for the Region column\n",
    "# Binary Encoding for Sex and Smoker Columns\n",
    "\n",
    "encoder = OneHotEncoder(sparse_output=False)\n",
    "encoder"
   ]
  },
  {
   "cell_type": "code",
   "execution_count": 8,
   "id": "5e0dbe3a",
   "metadata": {},
   "outputs": [],
   "source": [
    "encoded_data = encoder.fit_transform(cleaned_data[[\"Region\"]])\n",
    "encoded_df = pd.DataFrame(encoded_data, columns=encoder.get_feature_names_out([\"Region\"]))"
   ]
  },
  {
   "cell_type": "code",
   "execution_count": 9,
   "id": "99e7e4fc",
   "metadata": {},
   "outputs": [
    {
     "name": "stdout",
     "output_type": "stream",
     "text": [
      "<class 'pandas.core.frame.DataFrame'>\n",
      "Index: 1336 entries, 0 to 1313\n",
      "Data columns (total 11 columns):\n",
      " #   Column            Non-Null Count  Dtype  \n",
      "---  ------            --------------  -----  \n",
      " 0   Age               1321 non-null   float64\n",
      " 1   Gender            1321 non-null   object \n",
      " 2   BMI               1321 non-null   float64\n",
      " 3   Children          1321 non-null   float64\n",
      " 4   Smoker            1321 non-null   object \n",
      " 5   Region            1321 non-null   object \n",
      " 6   Expenses          1321 non-null   float64\n",
      " 7   Region_northeast  1321 non-null   float64\n",
      " 8   Region_northwest  1321 non-null   float64\n",
      " 9   Region_southeast  1321 non-null   float64\n",
      " 10  Region_southwest  1321 non-null   float64\n",
      "dtypes: float64(8), object(3)\n",
      "memory usage: 125.2+ KB\n",
      "None\n"
     ]
    }
   ],
   "source": [
    "data_new = pd.concat([cleaned_data,encoded_df],axis=1)\n",
    "print(data_new.info())"
   ]
  },
  {
   "cell_type": "code",
   "execution_count": 10,
   "id": "33aae531",
   "metadata": {},
   "outputs": [
    {
     "data": {
      "text/html": [
       "<style>#sk-container-id-2 {color: black;}#sk-container-id-2 pre{padding: 0;}#sk-container-id-2 div.sk-toggleable {background-color: white;}#sk-container-id-2 label.sk-toggleable__label {cursor: pointer;display: block;width: 100%;margin-bottom: 0;padding: 0.3em;box-sizing: border-box;text-align: center;}#sk-container-id-2 label.sk-toggleable__label-arrow:before {content: \"▸\";float: left;margin-right: 0.25em;color: #696969;}#sk-container-id-2 label.sk-toggleable__label-arrow:hover:before {color: black;}#sk-container-id-2 div.sk-estimator:hover label.sk-toggleable__label-arrow:before {color: black;}#sk-container-id-2 div.sk-toggleable__content {max-height: 0;max-width: 0;overflow: hidden;text-align: left;background-color: #f0f8ff;}#sk-container-id-2 div.sk-toggleable__content pre {margin: 0.2em;color: black;border-radius: 0.25em;background-color: #f0f8ff;}#sk-container-id-2 input.sk-toggleable__control:checked~div.sk-toggleable__content {max-height: 200px;max-width: 100%;overflow: auto;}#sk-container-id-2 input.sk-toggleable__control:checked~label.sk-toggleable__label-arrow:before {content: \"▾\";}#sk-container-id-2 div.sk-estimator input.sk-toggleable__control:checked~label.sk-toggleable__label {background-color: #d4ebff;}#sk-container-id-2 div.sk-label input.sk-toggleable__control:checked~label.sk-toggleable__label {background-color: #d4ebff;}#sk-container-id-2 input.sk-hidden--visually {border: 0;clip: rect(1px 1px 1px 1px);clip: rect(1px, 1px, 1px, 1px);height: 1px;margin: -1px;overflow: hidden;padding: 0;position: absolute;width: 1px;}#sk-container-id-2 div.sk-estimator {font-family: monospace;background-color: #f0f8ff;border: 1px dotted black;border-radius: 0.25em;box-sizing: border-box;margin-bottom: 0.5em;}#sk-container-id-2 div.sk-estimator:hover {background-color: #d4ebff;}#sk-container-id-2 div.sk-parallel-item::after {content: \"\";width: 100%;border-bottom: 1px solid gray;flex-grow: 1;}#sk-container-id-2 div.sk-label:hover label.sk-toggleable__label {background-color: #d4ebff;}#sk-container-id-2 div.sk-serial::before {content: \"\";position: absolute;border-left: 1px solid gray;box-sizing: border-box;top: 0;bottom: 0;left: 50%;z-index: 0;}#sk-container-id-2 div.sk-serial {display: flex;flex-direction: column;align-items: center;background-color: white;padding-right: 0.2em;padding-left: 0.2em;position: relative;}#sk-container-id-2 div.sk-item {position: relative;z-index: 1;}#sk-container-id-2 div.sk-parallel {display: flex;align-items: stretch;justify-content: center;background-color: white;position: relative;}#sk-container-id-2 div.sk-item::before, #sk-container-id-2 div.sk-parallel-item::before {content: \"\";position: absolute;border-left: 1px solid gray;box-sizing: border-box;top: 0;bottom: 0;left: 50%;z-index: -1;}#sk-container-id-2 div.sk-parallel-item {display: flex;flex-direction: column;z-index: 1;position: relative;background-color: white;}#sk-container-id-2 div.sk-parallel-item:first-child::after {align-self: flex-end;width: 50%;}#sk-container-id-2 div.sk-parallel-item:last-child::after {align-self: flex-start;width: 50%;}#sk-container-id-2 div.sk-parallel-item:only-child::after {width: 0;}#sk-container-id-2 div.sk-dashed-wrapped {border: 1px dashed gray;margin: 0 0.4em 0.5em 0.4em;box-sizing: border-box;padding-bottom: 0.4em;background-color: white;}#sk-container-id-2 div.sk-label label {font-family: monospace;font-weight: bold;display: inline-block;line-height: 1.2em;}#sk-container-id-2 div.sk-label-container {text-align: center;}#sk-container-id-2 div.sk-container {/* jupyter's `normalize.less` sets `[hidden] { display: none; }` but bootstrap.min.css set `[hidden] { display: none !important; }` so we also need the `!important` here to be able to override the default hidden behavior on the sphinx rendered scikit-learn.org. See: https://github.com/scikit-learn/scikit-learn/issues/21755 */display: inline-block !important;position: relative;}#sk-container-id-2 div.sk-text-repr-fallback {display: none;}</style><div id=\"sk-container-id-2\" class=\"sk-top-container\"><div class=\"sk-text-repr-fallback\"><pre>BinaryEncoder(cols=[&#x27;Gender&#x27;, &#x27;Smoker&#x27;])</pre><b>In a Jupyter environment, please rerun this cell to show the HTML representation or trust the notebook. <br />On GitHub, the HTML representation is unable to render, please try loading this page with nbviewer.org.</b></div><div class=\"sk-container\" hidden><div class=\"sk-item\"><div class=\"sk-estimator sk-toggleable\"><input class=\"sk-toggleable__control sk-hidden--visually\" id=\"sk-estimator-id-2\" type=\"checkbox\" checked><label for=\"sk-estimator-id-2\" class=\"sk-toggleable__label sk-toggleable__label-arrow\">BinaryEncoder</label><div class=\"sk-toggleable__content\"><pre>BinaryEncoder(cols=[&#x27;Gender&#x27;, &#x27;Smoker&#x27;])</pre></div></div></div></div></div>"
      ],
      "text/plain": [
       "BinaryEncoder(cols=['Gender', 'Smoker'])"
      ]
     },
     "execution_count": 10,
     "metadata": {},
     "output_type": "execute_result"
    }
   ],
   "source": [
    "binencoder = ce.binary.BinaryEncoder(cols=['Gender','Smoker'],return_df=True)\n",
    "binencoder"
   ]
  },
  {
   "cell_type": "code",
   "execution_count": 11,
   "id": "fc3a6d99",
   "metadata": {},
   "outputs": [
    {
     "name": "stdout",
     "output_type": "stream",
     "text": [
      "    Age  Gender_0  Gender_1   BMI  Children  Smoker_0  Smoker_1     Region  \\\n",
      "0  19.0         0         1  27.9       0.0         0         1  southwest   \n",
      "1  18.0         1         0  33.8       1.0         1         0  southeast   \n",
      "2  28.0         1         0  33.0       3.0         1         0  southeast   \n",
      "3  33.0         1         0  22.7       0.0         1         0  northwest   \n",
      "4  32.0         1         0  28.9       0.0         1         0  northwest   \n",
      "\n",
      "   Expenses  Region_northeast  Region_northwest  Region_southeast  \\\n",
      "0  16884.92               0.0               0.0               0.0   \n",
      "1   1725.55               0.0               0.0               1.0   \n",
      "2   4449.46               0.0               0.0               1.0   \n",
      "3  21984.47               0.0               1.0               0.0   \n",
      "4   3866.86               0.0               1.0               0.0   \n",
      "\n",
      "   Region_southwest  \n",
      "0               1.0  \n",
      "1               0.0  \n",
      "2               0.0  \n",
      "3               0.0  \n",
      "4               0.0  \n"
     ]
    }
   ],
   "source": [
    "data_encoded = binencoder.fit_transform(data_new)\n",
    "print(data_encoded.head())"
   ]
  },
  {
   "cell_type": "code",
   "execution_count": 12,
   "id": "d1fcb64e",
   "metadata": {},
   "outputs": [
    {
     "name": "stdout",
     "output_type": "stream",
     "text": [
      "    Age  Gender_0  Gender_1   BMI  Children  Smoker_0  Smoker_1  Expenses  \\\n",
      "0  19.0         0         1  27.9       0.0         0         1  16884.92   \n",
      "1  18.0         1         0  33.8       1.0         1         0   1725.55   \n",
      "2  28.0         1         0  33.0       3.0         1         0   4449.46   \n",
      "3  33.0         1         0  22.7       0.0         1         0  21984.47   \n",
      "4  32.0         1         0  28.9       0.0         1         0   3866.86   \n",
      "\n",
      "   Region_northeast  Region_northwest  Region_southeast  Region_southwest  \n",
      "0               0.0               0.0               0.0               1.0  \n",
      "1               0.0               0.0               1.0               0.0  \n",
      "2               0.0               0.0               1.0               0.0  \n",
      "3               0.0               1.0               0.0               0.0  \n",
      "4               0.0               1.0               0.0               0.0  \n"
     ]
    }
   ],
   "source": [
    "#Remove the Region Column now\n",
    "data_encoded = data_encoded.drop(['Region'],axis=1)\n",
    "print(data_encoded.head())\n",
    "data_encoded = data_encoded.dropna()"
   ]
  },
  {
   "cell_type": "code",
   "execution_count": 13,
   "id": "8c05dc56",
   "metadata": {},
   "outputs": [
    {
     "name": "stdout",
     "output_type": "stream",
     "text": [
      "(1306, 11) (1306,)\n"
     ]
    }
   ],
   "source": [
    "#Divided the Feature and Target Variables.\n",
    "X=data_encoded.drop(['Expenses'],axis=1)\n",
    "y=data_encoded['Expenses']\n",
    "print(X.shape,y.shape)"
   ]
  },
  {
   "cell_type": "code",
   "execution_count": 14,
   "id": "bc6a8598",
   "metadata": {},
   "outputs": [
    {
     "data": {
      "text/html": [
       "<style>#sk-container-id-3 {color: black;}#sk-container-id-3 pre{padding: 0;}#sk-container-id-3 div.sk-toggleable {background-color: white;}#sk-container-id-3 label.sk-toggleable__label {cursor: pointer;display: block;width: 100%;margin-bottom: 0;padding: 0.3em;box-sizing: border-box;text-align: center;}#sk-container-id-3 label.sk-toggleable__label-arrow:before {content: \"▸\";float: left;margin-right: 0.25em;color: #696969;}#sk-container-id-3 label.sk-toggleable__label-arrow:hover:before {color: black;}#sk-container-id-3 div.sk-estimator:hover label.sk-toggleable__label-arrow:before {color: black;}#sk-container-id-3 div.sk-toggleable__content {max-height: 0;max-width: 0;overflow: hidden;text-align: left;background-color: #f0f8ff;}#sk-container-id-3 div.sk-toggleable__content pre {margin: 0.2em;color: black;border-radius: 0.25em;background-color: #f0f8ff;}#sk-container-id-3 input.sk-toggleable__control:checked~div.sk-toggleable__content {max-height: 200px;max-width: 100%;overflow: auto;}#sk-container-id-3 input.sk-toggleable__control:checked~label.sk-toggleable__label-arrow:before {content: \"▾\";}#sk-container-id-3 div.sk-estimator input.sk-toggleable__control:checked~label.sk-toggleable__label {background-color: #d4ebff;}#sk-container-id-3 div.sk-label input.sk-toggleable__control:checked~label.sk-toggleable__label {background-color: #d4ebff;}#sk-container-id-3 input.sk-hidden--visually {border: 0;clip: rect(1px 1px 1px 1px);clip: rect(1px, 1px, 1px, 1px);height: 1px;margin: -1px;overflow: hidden;padding: 0;position: absolute;width: 1px;}#sk-container-id-3 div.sk-estimator {font-family: monospace;background-color: #f0f8ff;border: 1px dotted black;border-radius: 0.25em;box-sizing: border-box;margin-bottom: 0.5em;}#sk-container-id-3 div.sk-estimator:hover {background-color: #d4ebff;}#sk-container-id-3 div.sk-parallel-item::after {content: \"\";width: 100%;border-bottom: 1px solid gray;flex-grow: 1;}#sk-container-id-3 div.sk-label:hover label.sk-toggleable__label {background-color: #d4ebff;}#sk-container-id-3 div.sk-serial::before {content: \"\";position: absolute;border-left: 1px solid gray;box-sizing: border-box;top: 0;bottom: 0;left: 50%;z-index: 0;}#sk-container-id-3 div.sk-serial {display: flex;flex-direction: column;align-items: center;background-color: white;padding-right: 0.2em;padding-left: 0.2em;position: relative;}#sk-container-id-3 div.sk-item {position: relative;z-index: 1;}#sk-container-id-3 div.sk-parallel {display: flex;align-items: stretch;justify-content: center;background-color: white;position: relative;}#sk-container-id-3 div.sk-item::before, #sk-container-id-3 div.sk-parallel-item::before {content: \"\";position: absolute;border-left: 1px solid gray;box-sizing: border-box;top: 0;bottom: 0;left: 50%;z-index: -1;}#sk-container-id-3 div.sk-parallel-item {display: flex;flex-direction: column;z-index: 1;position: relative;background-color: white;}#sk-container-id-3 div.sk-parallel-item:first-child::after {align-self: flex-end;width: 50%;}#sk-container-id-3 div.sk-parallel-item:last-child::after {align-self: flex-start;width: 50%;}#sk-container-id-3 div.sk-parallel-item:only-child::after {width: 0;}#sk-container-id-3 div.sk-dashed-wrapped {border: 1px dashed gray;margin: 0 0.4em 0.5em 0.4em;box-sizing: border-box;padding-bottom: 0.4em;background-color: white;}#sk-container-id-3 div.sk-label label {font-family: monospace;font-weight: bold;display: inline-block;line-height: 1.2em;}#sk-container-id-3 div.sk-label-container {text-align: center;}#sk-container-id-3 div.sk-container {/* jupyter's `normalize.less` sets `[hidden] { display: none; }` but bootstrap.min.css set `[hidden] { display: none !important; }` so we also need the `!important` here to be able to override the default hidden behavior on the sphinx rendered scikit-learn.org. See: https://github.com/scikit-learn/scikit-learn/issues/21755 */display: inline-block !important;position: relative;}#sk-container-id-3 div.sk-text-repr-fallback {display: none;}</style><div id=\"sk-container-id-3\" class=\"sk-top-container\"><div class=\"sk-text-repr-fallback\"><pre>MinMaxScaler()</pre><b>In a Jupyter environment, please rerun this cell to show the HTML representation or trust the notebook. <br />On GitHub, the HTML representation is unable to render, please try loading this page with nbviewer.org.</b></div><div class=\"sk-container\" hidden><div class=\"sk-item\"><div class=\"sk-estimator sk-toggleable\"><input class=\"sk-toggleable__control sk-hidden--visually\" id=\"sk-estimator-id-3\" type=\"checkbox\" checked><label for=\"sk-estimator-id-3\" class=\"sk-toggleable__label sk-toggleable__label-arrow\">MinMaxScaler</label><div class=\"sk-toggleable__content\"><pre>MinMaxScaler()</pre></div></div></div></div></div>"
      ],
      "text/plain": [
       "MinMaxScaler()"
      ]
     },
     "execution_count": 14,
     "metadata": {},
     "output_type": "execute_result"
    }
   ],
   "source": [
    "#Normalizing the Data Using MinMaxScaler.\n",
    "scaling = MinMaxScaler()\n",
    "scaling"
   ]
  },
  {
   "cell_type": "code",
   "execution_count": 15,
   "id": "a303425a",
   "metadata": {},
   "outputs": [],
   "source": [
    "X_scaled = scaling.fit_transform(X)"
   ]
  },
  {
   "cell_type": "code",
   "execution_count": 16,
   "id": "d031ae21",
   "metadata": {},
   "outputs": [
    {
     "name": "stdout",
     "output_type": "stream",
     "text": [
      "The Shape of X_train is:  (1044, 11)\n",
      "The Shape of y_train is:  (1044,)\n",
      "The Shape of X_test is:  (262, 11)\n",
      "The Shape of y_test is:  (262,)\n"
     ]
    }
   ],
   "source": [
    "#Splitting the Data \n",
    "X_train,X_test,y_train,y_test = train_test_split(X_scaled,y,test_size=0.2,random_state=42)\n",
    "print(\"The Shape of X_train is: \",X_train.shape)\n",
    "print(\"The Shape of y_train is: \",y_train.shape)\n",
    "print(\"The Shape of X_test is: \",X_test.shape)\n",
    "print(\"The Shape of y_test is: \",y_test.shape)"
   ]
  },
  {
   "cell_type": "code",
   "execution_count": 17,
   "id": "f7cfb1f4",
   "metadata": {},
   "outputs": [],
   "source": [
    "y_train_reshaped = y_train.to_numpy().reshape(-1,1)\n",
    "y_test_reshaped = y_test.to_numpy().reshape(-1,1)"
   ]
  },
  {
   "cell_type": "code",
   "execution_count": 18,
   "id": "ca3fbcf7",
   "metadata": {},
   "outputs": [],
   "source": [
    "#Gradient Descent Model Implementation.\n",
    "def gradient_descent(X_train,y_train,alpha):\n",
    "    X_b = np.c_[np.ones((X_train.shape[0],1)),X_train]\n",
    "    m=X_train.shape[0]#Number Of DataPoints.\n",
    "    n_iterations = 10000\n",
    "    W = np.random.randn(X_train.shape[1]+1,1)\n",
    "    loss=[]\n",
    "    for iteration in range(n_iterations):\n",
    "        gradients = 1/m * X_b.T.dot(X_b.dot(W) - y_train)\n",
    "        W = W - alpha * gradients\n",
    "        predictions = X_b.dot(W)\n",
    "        loss.append(mean_squared_error(y_train, predictions))\n",
    "    return W,loss"
   ]
  },
  {
   "cell_type": "code",
   "execution_count": 19,
   "id": "cf2f7652",
   "metadata": {},
   "outputs": [
    {
     "name": "stdout",
     "output_type": "stream",
     "text": [
      "Coefficients and Intercepts of the Predictions:  [[  3652.68709768]\n",
      " [ 12908.52534024]\n",
      " [  1697.22045281]\n",
      " [  1958.24747399]\n",
      " [ 11305.73878624]\n",
      " [  3908.3272095 ]\n",
      " [-10337.42933741]\n",
      " [ 13995.28982138]\n",
      " [  1466.75726676]\n",
      " [   990.26924049]\n",
      " [   532.92143619]\n",
      " [   666.05297953]]\n"
     ]
    }
   ],
   "source": [
    "W,loss = gradient_descent(X_train,y_train_reshaped,0.02)\n",
    "print(\"Coefficients and Intercepts of the Predictions: \",W)"
   ]
  },
  {
   "cell_type": "code",
   "execution_count": 20,
   "id": "fc36c1d3",
   "metadata": {},
   "outputs": [],
   "source": [
    "#Gradient Descent Model Implementation with constant decay rate and exponential decay rate.\n",
    "def gradient_descent_decay(X_train,y_train,alpha):\n",
    "    X_b = np.c_[np.ones((X_train.shape[0],1)),X_train]\n",
    "    m=X_train.shape[0]#Number Of DataPoints.\n",
    "    n_iterations = 10000\n",
    "    W = np.random.randn(X_train.shape[1]+1,1)\n",
    "    loss_exponential_lr=[]\n",
    "    decay_rate = 0.1\n",
    "    for iteration in range(n_iterations):\n",
    "        #alpha = np.exp(-decay_rate*iteration)\n",
    "        alpha = alpha*(1/(1+decay_rate*iteration))\n",
    "        gradients = 1/m * X_b.T.dot(X_b.dot(W) - y_train)\n",
    "        W = W - alpha * gradients\n",
    "        predictions = X_b.dot(W)\n",
    "        loss_exponential_lr.append(mean_squared_error(y_train, predictions))\n",
    "    return W,loss_exponential_lr"
   ]
  },
  {
   "cell_type": "code",
   "execution_count": 21,
   "id": "6c94823a",
   "metadata": {},
   "outputs": [
    {
     "data": {
      "image/png": "[encoded data removed]",
      "text/plain": [
       "<Figure size 640x480 with 1 Axes>"
      ]
     },
     "metadata": {},
     "output_type": "display_data"
    }
   ],
   "source": [
    "W,loss_elr = gradient_descent_decay(X_train,y_train_reshaped,0.1)\n",
    "W,loss_clr = gradient_descent(X_train,y_train_reshaped,0.1)\n",
    "n_iterations = 10000\n",
    "plt.plot(range(n_iterations),loss_clr,\"b.\",label = \"Constant LR\")\n",
    "plt.plot(range(n_iterations),loss_elr,\"r.\", label = \"Decaying LR\")\n",
    "plt.xlabel(\"Iterations.\")\n",
    "plt.ylabel(\"Loss Function\")\n",
    "plt.legend()\n",
    "plt.show()"
   ]
  },
  {
   "cell_type": "code",
   "execution_count": 22,
   "id": "8208f9c7",
   "metadata": {},
   "outputs": [
    {
     "name": "stdout",
     "output_type": "stream",
     "text": [
      "Computational Time:  8.535726308822632\n",
      "Mean Squared Error is:  38700670.37558508\n",
      "Mean Absolute Error is:  4447.325614224069\n"
     ]
    }
   ],
   "source": [
    "#Model Evaluation.\n",
    "#Predicting the data for the test dataset.\n",
    "start_time = time.time()\n",
    "W,loss = gradient_descent(X_train,y_train_reshaped,0.02)\n",
    "end_time = time.time()\n",
    "print(\"Computational Time: \",(end_time-start_time))\n",
    "X_test_b = np.c_[np.ones((X_test.shape[0],1)),X_test]\n",
    "predictions = X_test_b.dot(W)\n",
    "print(\"Mean Squared Error is: \",mean_squared_error(y_test_reshaped,predictions))\n",
    "print(\"Mean Absolute Error is: \",mean_absolute_error(y_test_reshaped,predictions))"
   ]
  },
  {
   "cell_type": "code",
   "execution_count": 23,
   "id": "5cf3dba0",
   "metadata": {},
   "outputs": [
    {
     "data": {
      "image/png": "[encoded data removed]",
      "text/plain": [
       "<Figure size 640x480 with 1 Axes>"
      ]
     },
     "metadata": {},
     "output_type": "display_data"
    }
   ],
   "source": [
    "# Plot a histogram of the error distribution\n",
    "\n",
    "error = (y_test_reshaped-predictions)\n",
    "\n",
    "plt.hist(error,bins=30,color = \"blue\",edgecolor = \"black\")\n",
    "plt.xlabel(\"Test Data\")\n",
    "plt.ylabel(\"Error Values\")\n",
    "plt.title(\"Error Distribution\")\n",
    "plt.show()"
   ]
  },
  {
   "cell_type": "raw",
   "id": "064814cb",
   "metadata": {},
   "source": [
    "# Learning Rate Analysis:\n",
    "# Demonstrate the effect of varying the learning rate on the convergence of the gradient descent algorithm.\n",
    "\n",
    "Constant learning rate:\n",
    "\n",
    "The learning rate remains constant throughout the training process. This is shown by the blue line in the graph, which is a horizontal line.\n",
    "A constant learning rate can be simple to implement, but it can also lead to problems such as:\n",
    "Getting stuck in local minima: If the learning rate is too high, the optimizer may jump around the loss landscape and never settle on the optimal solution. If the learning rate is too low, the optimizer may take too long to converge or even get stuck in a local minimum, which is not the best solution the model can find.\n",
    "Not being able to adapt to the changing landscape: As the training progresses, the loss landscape changes. A constant learning rate may not be able to adapt to these changes and make effective updates to the model's parameters.\n",
    "Decaying learning rate:\n",
    "\n",
    "The learning rate gradually decreases over the course of training. This is shown by the green line in the graph, which slopes downwards.\n",
    "\n",
    "Decaying learning rate can help to address the problems of constant learning rate:\n",
    "\n",
    "Avoiding local minima: By starting with a higher learning rate and then gradually decreasing it, the optimizer can explore the loss landscape more effectively and avoid getting stuck in local minima.\n",
    "Adapting to the changing landscape: As the training progresses and the loss landscape becomes smoother, a lower learning rate can help the optimizer make more precise updates and fine-tune the model's parameters.\n",
    "There are different ways to schedule the decay of the learning rate. Some common methods include:\n",
    "\n",
    "Exponential decay: The learning rate is multiplied by a constant factor (less than 1) after each epoch or iteration.\n",
    "Step decay: The learning rate is reduced by a fixed amount at certain points during training.\n",
    "Adaptive learning rate methods: These methods adjust the learning rate for each individual parameter or layer of the network based on the gradients or other information.\n",
    "In the image you sent, it appears that the decaying learning rate (green line) leads to a lower loss than the constant learning rate (blue line) after a certain number of iterations. This suggests that the decaying learning rate was more effective in helping the optimizer find the optimal solution for this particular neural network and dataset.\n",
    "\n",
    "However, it is important to note that the best learning rate schedule will vary depending on the specific problem and dataset. It is often necessary to experiment with different learning rate schedules to find the one that works best for your particular task."
   ]
  },
  {
   "cell_type": "code",
   "execution_count": 25,
   "id": "d36bbb08",
   "metadata": {},
   "outputs": [
    {
     "name": "stdout",
     "output_type": "stream",
     "text": [
      "Computational Time:  0.0059964656829833984\n",
      "0.689070015091368\n",
      "Mean Squared Error:  39612442.26800394\n",
      "Mean Absolute Error:  4486.3157741860805\n"
     ]
    }
   ],
   "source": [
    "#6.Scikit-learn Implementation\n",
    "start_time = time.time()\n",
    "lin_reg = LinearRegression()\n",
    "lin_reg.fit(X_train,y_train)\n",
    "end_time = time.time()\n",
    "print(\"Computational Time: \",(end_time-start_time))\n",
    "y_pred = lin_reg.predict(X_test)\n",
    "print(lin_reg.score(X_test,y_test))\n",
    "print(\"Mean Squared Error: \",mean_squared_error(y_test_reshaped,y_pred))\n",
    "print(\"Mean Absolute Error: \",mean_absolute_error(y_test_reshaped,y_pred))"
   ]
  },
  {
   "cell_type": "code",
   "execution_count": 26,
   "id": "e63a1a54",
   "metadata": {
    "scrolled": true
   },
   "outputs": [
    {
     "name": "stdout",
     "output_type": "stream",
     "text": [
      "Computational Time:  0.001468658447265625\n",
      "Coefficients and Intercepts are:  [[-3.12515575e+19]\n",
      " [-1.98319891e+05]\n",
      " [ 9.81302539e+19]\n",
      " [ 9.81302539e+19]\n",
      " [-1.43468890e+06]\n",
      " [ 1.81453878e+08]\n",
      " [-6.68786964e+19]\n",
      " [-6.68786964e+19]\n",
      " [ 1.25998889e+06]\n",
      " [ 4.82187842e+05]\n",
      " [ 9.34801395e+05]\n",
      " [ 4.35070006e+05]]\n",
      "Mean Squared Error:  35642446338124.66\n",
      "Mean Absolute Error:  1902250.1095038168\n"
     ]
    }
   ],
   "source": [
    "#7.Normal Equation Implementation:\n",
    "X_train_b = np.c_[np.ones((X_train.shape[0],1)),X_train]\n",
    "start_time = time.time()\n",
    "W_norm = np.linalg.inv(X_train_b.T.dot(X_train_b)).dot(X_train_b.T).dot(y_train_reshaped)\n",
    "end_time = time.time()\n",
    "print(\"Computational Time: \",(end_time-start_time))\n",
    "print(\"Coefficients and Intercepts are: \",W_norm)\n",
    "X_test_b = np.c_[np.ones((X_test.shape[0],1)),X_test]\n",
    "norm_predictions = X_test_b.dot(W_norm)\n",
    "print(\"Mean Squared Error: \",mean_squared_error(y_test_reshaped,norm_predictions))\n",
    "print(\"Mean Absolute Error: \",mean_absolute_error(y_test_reshaped,norm_predictions))"
   ]
  },
  {
   "cell_type": "raw",
   "id": "51e138a8",
   "metadata": {},
   "source": [
    "# Compare the three solutions in terms of MAE, MSE, and computational efficiency.\n",
    "\n",
    "Gradient Descent Code:\n",
    "Computational Time:  8.535726308822632\n",
    "Mean Squared Error is:  38700670.37558508\n",
    "Mean Absolute Error is:  4447.325614224069\n",
    "\n",
    "InBuilt Function Code:\n",
    "Computational Time:  0.0059964656829833984\n",
    "Mean Squared Error:  39612442.26800394\n",
    "Mean Absolute Error:  4486.3157741860805\n",
    "\n",
    "Normal Equation Code:\n",
    "Computational Time:  0.001468658447265625\n",
    "Mean Squared Error:  35642446338124.66\n",
    "Mean Absolute Error:  1902250.1095038168\n",
    "\n",
    "In the Above Execution we have the Computational efficiency better in the inbuilt function which is developed by sklearn.\n",
    "The Gradient Descent model takes more time for the execution of the data but provided the best results which are very much similar to inbuilt execution.\n",
    "\n",
    "Normal equation has it limitations.In the Execution i have got the MSE and MAE which are very much.\n",
    "\n",
    "I have done the HIST plot for the error distribution in the gradient descent model which shows a bell shaped curve.Which indicates that most of the error are very near to the 0.\n"
   ]
  },
  {
   "cell_type": "code",
   "execution_count": null,
   "id": "98c1e2e6",
   "metadata": {},
   "outputs": [],
   "source": []
  },
  {
   "cell_type": "code",
   "execution_count": null,
   "id": "d64ac94f",
   "metadata": {},
   "outputs": [],
   "source": []
  },
  {
   "cell_type": "code",
   "execution_count": null,
   "id": "1624059f",
   "metadata": {},
   "outputs": [],
   "source": []
  },
  {
   "cell_type": "code",
   "execution_count": null,
   "id": "f08a68f7",
   "metadata": {},
   "outputs": [],
   "source": []
  },
  {
   "cell_type": "code",
   "execution_count": null,
   "id": "e25eb215",
   "metadata": {},
   "outputs": [],
   "source": []
  },
  {
   "cell_type": "code",
   "execution_count": null,
   "id": "9043d98e",
   "metadata": {},
   "outputs": [],
   "source": []
  }
 ],
 "metadata": {
  "kernelspec": {
   "display_name": "Python 3 (ipykernel)",
   "language": "python",
   "name": "python3"
  },
  "language_info": {
   "codemirror_mode": {
    "name": "ipython",
    "version": 3
   },
   "file_extension": ".py",
   "mimetype": "text/x-python",
   "name": "python",
   "nbconvert_exporter": "python",
   "pygments_lexer": "ipython3",
   "version": "3.10.13"
  }
 },
 "nbformat": 4,
 "nbformat_minor": 5
}
